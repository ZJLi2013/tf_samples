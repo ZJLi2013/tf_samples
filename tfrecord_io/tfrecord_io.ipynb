{
 "cells": [
  {
   "cell_type": "code",
   "execution_count": 8,
   "id": "23e62658",
   "metadata": {},
   "outputs": [],
   "source": [
    "# tf.train.Example\n",
    "import tensorflow as tf\n",
    "import numpy as np"
   ]
  },
  {
   "cell_type": "code",
   "execution_count": 9,
   "id": "7b8f15be",
   "metadata": {},
   "outputs": [],
   "source": [
    "# The following functions can be used to convert a value to a type compatible\n",
    "# with tf.train.Example.\n",
    "\n",
    "def _bytes_feature(value):\n",
    "  \"\"\"Returns a bytes_list from a string / byte.\"\"\"\n",
    "  if isinstance(value, type(tf.constant(0))):\n",
    "    value = value.numpy() # BytesList won't unpack a string from an EagerTensor.\n",
    "  return tf.train.Feature(bytes_list=tf.train.BytesList(value=[value]))\n",
    "\n",
    "def _float_feature(value):\n",
    "  \"\"\"Returns a float_list from a float / double.\"\"\"\n",
    "  return tf.train.Feature(float_list=tf.train.FloatList(value=[value]))\n",
    "\n",
    "def _int64_feature(value):\n",
    "  \"\"\"Returns an int64_list from a bool / enum / int / uint.\"\"\"\n",
    "  return tf.train.Feature(int64_list=tf.train.Int64List(value=[value]))\n"
   ]
  },
  {
   "cell_type": "code",
   "execution_count": 13,
   "id": "ecbaac7f",
   "metadata": {},
   "outputs": [
    {
     "data": {
      "text/plain": [
       "b'\\n$\\n\\x12\\n\\x05image\\x12\\t\\n\\x07\\n\\x05human\\n\\x0e\\n\\x05label\\x12\\x05\\x1a\\x03\\n\\x01\\x06'"
      ]
     },
     "execution_count": 13,
     "metadata": {},
     "output_type": "execute_result"
    }
   ],
   "source": [
    "def serialize_example(feature_image, feature_label):\n",
    "    feature = {\n",
    "        \"image\": _bytes_feature(feature_image),\n",
    "        \"label\": _int64_feature(feature_label),\n",
    "    }\n",
    "    example_proto = tf.train.Example(features=tf.train.Features(feature=feature))\n",
    "    return example_proto.SerializeToString()\n",
    "\n",
    "test1 = serialize_example(b\"human\", 6)\n",
    "test1"
   ]
  },
  {
   "cell_type": "code",
   "execution_count": 22,
   "id": "d007c1cb",
   "metadata": {},
   "outputs": [],
   "source": [
    "def deserialize_example(serialized_example):\n",
    "    return tf.train.Example.FromString(serialized_example)\n",
    "\n",
    "#test2 = deserialize_example(test1)\n",
    "#test2"
   ]
  },
  {
   "cell_type": "code",
   "execution_count": 78,
   "id": "3e097e32",
   "metadata": {},
   "outputs": [],
   "source": [
    "## tf.train.Example vs TFRecords\n",
    "import os\n",
    "base_dir = \"/home/lidavid/data/tensorflow_datasets/cifar10_1/v4/\"\n",
    "cifar_dir=\"1.1.0/\"\n",
    "tf_record = os.path.join(base_dir + cifar_dir + \"cifar10_1-test.tfrecord-00000-of-00001\")\n",
    "raw_dataset = tf.data.TFRecordDataset(tf_record)"
   ]
  },
  {
   "cell_type": "code",
   "execution_count": 72,
   "id": "b347e7d8",
   "metadata": {},
   "outputs": [],
   "source": [
    "# iterat through dataset \n",
    "\n",
    "#raw2 = list(raw_dataset.as_numpy_iterator())\n",
    "\n",
    "#sub1 = raw_dataset.take(2)\n",
    "#list(sub1.as_numpy_iterator())\n",
    "\n"
   ]
  },
  {
   "cell_type": "code",
   "execution_count": 34,
   "id": "84c224e4",
   "metadata": {},
   "outputs": [],
   "source": [
    "raw_example = next(iter(raw_dataset))\n",
    "parsed_example = deserialize_example(raw_example.numpy())  #ND array is an alias to `tf.Tensor`\n"
   ]
  },
  {
   "cell_type": "code",
   "execution_count": 35,
   "id": "32432a64",
   "metadata": {
    "scrolled": true
   },
   "outputs": [
    {
     "data": {
      "image/png": "[encoded data removed]",
      "text/plain": [
       "<Figure size 432x288 with 1 Axes>"
      ]
     },
     "metadata": {
      "needs_background": "light"
     },
     "output_type": "display_data"
    }
   ],
   "source": [
    "import matplotlib.pyplot as plt\n",
    "def decode_cifar_image(parsed_example):\n",
    "    raw_img = parsed_example.features.feature[\"image\"].bytes_list.value[0]\n",
    "    img = tf.image.decode_png(raw_img)\n",
    "    plt.imshow(img)\n",
    "\n",
    "decode_cifar_image(parsed_example)"
   ]
  },
  {
   "cell_type": "code",
   "execution_count": 142,
   "id": "3de1bbc5",
   "metadata": {},
   "outputs": [],
   "source": [
    "#at this point, datast contains serialized `tf.train.Example` messages\n",
    "\n",
    "feature_description = {\n",
    "    \"image\": tf.io.FixedLenFeature([], dtype=tf.string) ,\n",
    "    \"label\": tf.io.FixedLenFeature([], dtype=tf.int64),\n",
    "}\n",
    "\n",
    "def _single_parse(eg):\n",
    "    return tf.io.parse_single_example(eg, feature_description)\n",
    "\n",
    "def _parse(eg):\n",
    "    example = tf.io.parse_example(eg, feature_description)\n",
    "    return example"
   ]
  },
  {
   "cell_type": "code",
   "execution_count": 143,
   "id": "dbd5bec2",
   "metadata": {},
   "outputs": [
    {
     "data": {
      "text/plain": [
       "<matplotlib.image.AxesImage at 0x7fa67d1f2550>"
      ]
     },
     "execution_count": 143,
     "metadata": {},
     "output_type": "execute_result"
    },
    {
     "data": {
      "image/png": "[encoded data removed]",
      "text/plain": [
       "<Figure size 432x288 with 1 Axes>"
      ]
     },
     "metadata": {
      "needs_background": "light"
     },
     "output_type": "display_data"
    }
   ],
   "source": [
    "raw_img =  _single_parse(raw_example)   #image in bytes\n",
    "img = tf.image.decode_png(raw_img[\"image\"])\n",
    "plt.imshow(img)"
   ]
  },
  {
   "cell_type": "code",
   "execution_count": 170,
   "id": "ac0de5af",
   "metadata": {},
   "outputs": [],
   "source": [
    "subset= raw_dataset.take(4)\n",
    "from collections import defaultdict\n",
    "\n",
    "label_count = defaultdict(int)\n",
    "img_path = base_dir + \"images/\"  #need first have this folder\n",
    "\n",
    "def image_save(raw):\n",
    "    img = tf.image.decode_png(raw[\"image\"])\n",
    "    #TODO: \n",
    "    if isinstance(raw[\"label\"], np.int64):\n",
    "        label = raw[\"label\"]\n",
    "    else:\n",
    "        label = raw[\"label\"].numpy()\n",
    "    if label in label_count:\n",
    "        label_count[label] += 1 \n",
    "    else:\n",
    "        label_count[label] = 1\n",
    "    img_name = \"%02d_%04d.jpeg\"%(label, label_count[label])\n",
    "    plt.imshow(img)\n",
    "    plt.savefig(os.path.join(img_path, img_name), format='jpg')\n"
   ]
  },
  {
   "cell_type": "code",
   "execution_count": 171,
   "id": "2b937e07",
   "metadata": {},
   "outputs": [
    {
     "data": {
      "image/png": "[encoded data removed]",
      "text/plain": [
       "<Figure size 432x288 with 1 Axes>"
      ]
     },
     "metadata": {
      "needs_background": "light"
     },
     "output_type": "display_data"
    }
   ],
   "source": [
    "decoded_subset = subset.map(_parse)\n",
    "\n",
    "for ele in decoded_subset.as_numpy_iterator():\n",
    "    image_save(ele)"
   ]
  },
  {
   "cell_type": "code",
   "execution_count": 175,
   "id": "eade09f7",
   "metadata": {},
   "outputs": [],
   "source": [
    "# write to TFRecords\n",
    "writer = tf.io.TFRecordWriter(os.path.join(img_path, \"cifar_10.tfrecord\"))\n",
    "for filename in os.listdir(img_path):\n",
    "    if filename.lower().endswith(\"jpeg\"):\n",
    "        image_label = int(filename[:2])\n",
    "        image_bytes = open(os.path.join(img_path, filename), 'rb').read()\n",
    "        encoded_ = serialize_example(image_bytes, image_label)\n",
    "        writer.write(encoded_)"
   ]
  },
  {
   "cell_type": "code",
   "execution_count": null,
   "id": "9d43d074",
   "metadata": {},
   "outputs": [],
   "source": []
  }
 ],
 "metadata": {
  "kernelspec": {
   "display_name": "venv",
   "language": "python",
   "name": "venv"
  },
  "language_info": {
   "codemirror_mode": {
    "name": "ipython",
    "version": 3
   },
   "file_extension": ".py",
   "mimetype": "text/x-python",
   "name": "python",
   "nbconvert_exporter": "python",
   "pygments_lexer": "ipython3",
   "version": "3.8.5"
  }
 },
 "nbformat": 4,
 "nbformat_minor": 5
}
